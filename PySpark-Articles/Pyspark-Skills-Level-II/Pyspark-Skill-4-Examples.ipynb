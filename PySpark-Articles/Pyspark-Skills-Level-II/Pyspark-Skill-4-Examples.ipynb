{
 "cells": [
  {
   "cell_type": "markdown",
   "id": "a3c2e28a-473d-4456-bb5e-322d480da3d8",
   "metadata": {},
   "source": [
    "## Loading Data from CSV into DataFrame"
   ]
  },
  {
   "cell_type": "code",
   "execution_count": 1,
   "id": "15603803-0b03-44bd-8d0d-5cbb38db5dbc",
   "metadata": {},
   "outputs": [],
   "source": [
    "# Setting Environment\n",
    "import sys\n",
    "import os\n",
    "os.environ[\"PYSPARK_PYTHON\"] = sys.executable\n",
    "os.environ[\"PYSPARK_DRIVER_PYTHON\"] = sys.executable"
   ]
  },
  {
   "cell_type": "code",
   "execution_count": 2,
   "id": "46a4e7bd-fb76-43da-9424-d0980d2a2a6d",
   "metadata": {},
   "outputs": [],
   "source": [
    "from pyspark.sql import SparkSession\n",
    "spark = SparkSession.builder\\\n",
    "        .appName(\"Skill-Pyspark\")\\\n",
    "        .getOrCreate()"
   ]
  },
  {
   "cell_type": "code",
   "execution_count": 5,
   "id": "87302d37-8f54-46de-a3ff-48b2a7f69393",
   "metadata": {},
   "outputs": [
    {
     "name": "stdout",
     "output_type": "stream",
     "text": [
      "+----------+------------+----------+---------+---------+-----+\n",
      "|store_code|product_code|sales_date|sales_qty|sales_rev|price|\n",
      "+----------+------------+----------+---------+---------+-----+\n",
      "|        B1|       89912|2021-05-01|       14|    17654| 1261|\n",
      "|        B1|       89912|2021-05-02|       19|    24282| 1278|\n",
      "|        B1|       89912|2021-05-03|       15|    19305| 1287|\n",
      "|        B1|       89912|2021-05-04|       21|    28287| 1347|\n",
      "|        B1|       89912|2021-05-05|        4|     5404| 1351|\n",
      "|        B1|       89912|2021-05-06|        5|     6775| 1355|\n",
      "|        B1|       89912|2021-05-07|       10|    12420| 1242|\n",
      "|        B1|       89912|2021-05-08|       18|    22500| 1250|\n",
      "|        B1|       89912|2021-05-09|        5|     6555| 1311|\n",
      "|        B1|       89912|2021-05-10|        2|     2638| 1319|\n",
      "|        B1|       89912|2021-05-11|       15|    19575| 1305|\n",
      "|        B1|       89912|2021-05-12|       21|    28182| 1342|\n",
      "|        B1|       89912|2021-05-13|        7|     9268| 1324|\n",
      "|        B1|       89912|2021-05-14|       17|    22576| 1328|\n",
      "|        B1|       89912|2021-05-15|       16|    20320| 1270|\n",
      "|        B1|       89915|2021-05-01|       20|    27040| 1352|\n",
      "|        B1|       89915|2021-05-02|        0|        0| 1361|\n",
      "|        B1|       89915|2021-05-03|       10|    12310| 1231|\n",
      "|        B1|       89915|2021-05-04|       13|    16133| 1241|\n",
      "|        B1|       89915|2021-05-05|       21|    27909| 1329|\n",
      "+----------+------------+----------+---------+---------+-----+\n",
      "only showing top 20 rows\n",
      "\n"
     ]
    }
   ],
   "source": [
    "df = spark.read.format(\"csv\")\\\n",
    "    .option(\"header\", \"true\")\\\n",
    "    .load(\"sample_sales_pyspark.csv\")\n",
    "df.show()"
   ]
  },
  {
   "cell_type": "code",
   "execution_count": 6,
   "id": "60ceb552-b2fe-4bbd-bc30-f4c2b708bd82",
   "metadata": {},
   "outputs": [
    {
     "name": "stdout",
     "output_type": "stream",
     "text": [
      "root\n",
      " |-- store_code: string (nullable = true)\n",
      " |-- product_code: string (nullable = true)\n",
      " |-- sales_date: string (nullable = true)\n",
      " |-- sales_qty: string (nullable = true)\n",
      " |-- sales_rev: string (nullable = true)\n",
      " |-- price: string (nullable = true)\n",
      "\n"
     ]
    }
   ],
   "source": [
    "df.printSchema()"
   ]
  },
  {
   "cell_type": "markdown",
   "id": "13c977a2-30f8-429f-b9de-61faa4dae5de",
   "metadata": {},
   "source": [
    "## Example 1 : Select Expression"
   ]
  },
  {
   "cell_type": "code",
   "execution_count": 34,
   "id": "e76c78ad-af97-4b37-b69f-06ce41784642",
   "metadata": {},
   "outputs": [
    {
     "data": {
      "text/plain": [
       "[('store_id', 'string'),\n",
       " ('prod_id', 'bigint'),\n",
       " ('sales_date', 'date'),\n",
       " ('amount', 'float'),\n",
       " ('sales_quantity', 'int')]"
      ]
     },
     "execution_count": 34,
     "metadata": {},
     "output_type": "execute_result"
    }
   ],
   "source": [
    "sub_df = df.selectExpr(\"store_code as store_id\",\n",
    "                      \"cast(product_code as bigint) as prod_id\", \n",
    "                      \"cast(sales_date as date) as sales_date\",\n",
    "                      \"cast(price as float) as amount\",\n",
    "                      \"cast(sales_qty as int) as sales_quantity\")\n",
    "sub_df.dtypes"
   ]
  },
  {
   "cell_type": "markdown",
   "id": "c78e66b6-c69c-4531-8e20-e40179464118",
   "metadata": {},
   "source": [
    "## Example 2 : Moving Average"
   ]
  },
  {
   "cell_type": "code",
   "execution_count": 43,
   "id": "e26beda2-b8c0-409a-9e0c-5ce254c29497",
   "metadata": {},
   "outputs": [],
   "source": [
    "from pyspark.sql import Window\n",
    "# Define a window\n",
    "window = (\n",
    "        Window\\\n",
    "        .partitionBy(\"store_id\", \"prod_id\")\\\n",
    "        .orderBy(\"sales_date\")\\\n",
    "        .rowsBetween(-2, Window.currentRow)\n",
    ")"
   ]
  },
  {
   "cell_type": "code",
   "execution_count": 44,
   "id": "6a41a495-df45-452c-8c65-606b15b88cb2",
   "metadata": {},
   "outputs": [
    {
     "name": "stdout",
     "output_type": "stream",
     "text": [
      "+--------+-------+----------+------+--------------+----------+\n",
      "|store_id|prod_id|sales_date|amount|sales_quantity|moving_avg|\n",
      "+--------+-------+----------+------+--------------+----------+\n",
      "|      A1|  89686|2021-05-06| 441.0|            12|      12.0|\n",
      "|      A1|  89686|2021-05-07| 447.0|            23|      17.5|\n",
      "|      A1|  89686|2021-05-08| 456.0|            14|     16.33|\n",
      "|      A1|  89686|2021-05-09| 438.0|             8|      15.0|\n",
      "|      A1|  89686|2021-05-10| 415.0|             6|      9.33|\n",
      "|      A1|  89686|2021-05-11| 446.0|             4|       6.0|\n",
      "|      A1|  89686|2021-05-12| 441.0|            11|       7.0|\n",
      "|      A1|  89686|2021-05-13| 422.0|             9|       8.0|\n",
      "|      A1|  89686|2021-05-14| 459.0|            19|      13.0|\n",
      "|      A1|  89686|2021-05-15| 436.0|             3|     10.33|\n",
      "|      A1|  89688|2021-05-06| 188.0|             7|       7.0|\n",
      "|      A1|  89688|2021-05-07| 187.0|             9|       8.0|\n",
      "|      A1|  89688|2021-05-08| 173.0|            22|     12.67|\n",
      "|      A1|  89688|2021-05-09| 179.0|            17|      16.0|\n",
      "|      A1|  89688|2021-05-10| 172.0|             0|      13.0|\n",
      "|      A1|  89688|2021-05-11| 185.0|            17|     11.33|\n",
      "|      A1|  89688|2021-05-12| 175.0|             3|      6.67|\n",
      "|      A1|  89688|2021-05-13| 184.0|            20|     13.33|\n",
      "|      A1|  89688|2021-05-14| 179.0|            12|     11.67|\n",
      "|      A1|  89688|2021-05-15| 177.0|            15|     15.67|\n",
      "+--------+-------+----------+------+--------------+----------+\n",
      "only showing top 20 rows\n",
      "\n"
     ]
    }
   ],
   "source": [
    "from pyspark.sql.functions import round, mean\n",
    "# Calculate the mean over the window\n",
    "sub_df = sub_df\\\n",
    "        .withColumn(\"moving_avg\", round(mean(\"sales_quantity\").over(window), 2))\n",
    "sub_df.show()"
   ]
  },
  {
   "cell_type": "markdown",
   "id": "919ca82f-52a2-4472-bd1c-1bed7863ca59",
   "metadata": {},
   "source": [
    "## Example 3 : Moving average with SQL"
   ]
  },
  {
   "cell_type": "code",
   "execution_count": 45,
   "id": "c4fe690c-723a-421c-a585-b634d9e73f5d",
   "metadata": {},
   "outputs": [],
   "source": [
    "from pyspark.sql.functions import expr\n",
    "# define a window\n",
    "expression = \"\"\"\n",
    "                mean(sales_quantity) over (partition by store_id, prod_id order by sales_date rows between 2 preceding and current row)    \n",
    "            \"\"\"\n",
    "\n",
    "sub_df = sub_df.withColumn(\n",
    "    \"moving_avg\", round(expr(expression), 3)\n",
    ")"
   ]
  },
  {
   "cell_type": "code",
   "execution_count": 46,
   "id": "fc99d04f-3c28-461c-a3dc-c1e354d8f2ad",
   "metadata": {},
   "outputs": [
    {
     "name": "stdout",
     "output_type": "stream",
     "text": [
      "+--------+-------+----------+------+--------------+----------+\n",
      "|store_id|prod_id|sales_date|amount|sales_quantity|moving_avg|\n",
      "+--------+-------+----------+------+--------------+----------+\n",
      "|      A1|  89686|2021-05-06| 441.0|            12|      12.0|\n",
      "|      A1|  89686|2021-05-07| 447.0|            23|      17.5|\n",
      "|      A1|  89686|2021-05-08| 456.0|            14|    16.333|\n",
      "|      A1|  89686|2021-05-09| 438.0|             8|      15.0|\n",
      "|      A1|  89686|2021-05-10| 415.0|             6|     9.333|\n",
      "+--------+-------+----------+------+--------------+----------+\n",
      "only showing top 5 rows\n",
      "\n"
     ]
    }
   ],
   "source": [
    "sub_df.show(5)"
   ]
  },
  {
   "cell_type": "markdown",
   "id": "fa619816-b5ff-44f9-902f-4aefc2dae7fd",
   "metadata": {},
   "source": [
    "## Example 4 : Conditional Moving Average"
   ]
  },
  {
   "cell_type": "code",
   "execution_count": 53,
   "id": "974ac45d-996e-4d03-99cc-de18c09725be",
   "metadata": {},
   "outputs": [
    {
     "name": "stdout",
     "output_type": "stream",
     "text": [
      "+--------+-------+----------+------+--------------+----------+--------+\n",
      "|store_id|prod_id|sales_date|amount|sales_quantity|moving_avg|is_promo|\n",
      "+--------+-------+----------+------+--------------+----------+--------+\n",
      "|      A1|  89686|2021-05-06| 441.0|            12|      12.0|       0|\n",
      "|      A1|  89686|2021-05-07| 447.0|            23|      17.5|       1|\n",
      "|      A1|  89686|2021-05-08| 456.0|            14|    16.333|       1|\n",
      "|      A1|  89686|2021-05-09| 438.0|             8|      15.0|       1|\n",
      "|      A1|  89686|2021-05-10| 415.0|             6|     9.333|       0|\n",
      "|      A1|  89686|2021-05-11| 446.0|             4|       6.0|       0|\n",
      "|      A1|  89686|2021-05-12| 441.0|            11|       7.0|       0|\n",
      "|      A1|  89686|2021-05-13| 422.0|             9|       8.0|       0|\n",
      "|      A1|  89686|2021-05-14| 459.0|            19|      13.0|       0|\n",
      "|      A1|  89686|2021-05-15| 436.0|             3|    10.333|       0|\n",
      "|      A1|  89688|2021-05-06| 188.0|             7|       7.0|       0|\n",
      "|      A1|  89688|2021-05-07| 187.0|             9|       8.0|       1|\n",
      "|      A1|  89688|2021-05-08| 173.0|            22|    12.667|       1|\n",
      "|      A1|  89688|2021-05-09| 179.0|            17|      16.0|       1|\n",
      "|      A1|  89688|2021-05-10| 172.0|             0|      13.0|       0|\n",
      "|      A1|  89688|2021-05-11| 185.0|            17|    11.333|       0|\n",
      "|      A1|  89688|2021-05-12| 175.0|             3|     6.667|       0|\n",
      "|      A1|  89688|2021-05-13| 184.0|            20|    13.333|       0|\n",
      "|      A1|  89688|2021-05-14| 179.0|            12|    11.667|       0|\n",
      "|      A1|  89688|2021-05-15| 177.0|            15|    15.667|       0|\n",
      "+--------+-------+----------+------+--------------+----------+--------+\n",
      "only showing top 20 rows\n",
      "\n"
     ]
    }
   ],
   "source": [
    "from pyspark.sql.functions import when, col\n",
    "promo_days = [\"2021-05-07\", \"2021-05-08\", \"2021-05-09\"]\n",
    "\n",
    "sub_df = sub_df.withColumn('is_promo',\n",
    "                          when(col('sales_date').isin(promo_days), 1).otherwise(0))\n",
    "\n",
    "sub_df.show()"
   ]
  },
  {
   "cell_type": "code",
   "execution_count": 55,
   "id": "1f69641b-8551-41a3-9f58-be4061f91da2",
   "metadata": {},
   "outputs": [
    {
     "name": "stdout",
     "output_type": "stream",
     "text": [
      "+--------+-------+----------+----------+\n",
      "|store_id|prod_id|sales_date|moving_avg|\n",
      "+--------+-------+----------+----------+\n",
      "|      A1|  89686|2021-05-06|      12.0|\n",
      "|      A1|  89686|2021-05-10|       9.0|\n",
      "|      A1|  89686|2021-05-11|      7.33|\n",
      "|      A1|  89686|2021-05-12|       7.0|\n",
      "|      A1|  89686|2021-05-13|       8.0|\n",
      "|      A1|  89686|2021-05-14|      13.0|\n",
      "|      A1|  89686|2021-05-15|     10.33|\n",
      "|      A1|  89688|2021-05-06|       7.0|\n",
      "|      A1|  89688|2021-05-10|       3.5|\n",
      "|      A1|  89688|2021-05-11|       8.0|\n",
      "|      A1|  89688|2021-05-12|      6.67|\n",
      "|      A1|  89688|2021-05-13|     13.33|\n",
      "|      A1|  89688|2021-05-14|     11.67|\n",
      "|      A1|  89688|2021-05-15|     15.67|\n",
      "|      A1|  89912|2021-05-01|       4.0|\n",
      "|      A1|  89912|2021-05-02|       4.0|\n",
      "|      A1|  89912|2021-05-03|       8.0|\n",
      "|      A1|  89912|2021-05-04|     10.67|\n",
      "|      A1|  89912|2021-05-05|      14.0|\n",
      "|      A1|  89912|2021-05-06|     11.33|\n",
      "+--------+-------+----------+----------+\n",
      "only showing top 20 rows\n",
      "\n"
     ]
    }
   ],
   "source": [
    "# filter out promo_days and start calculating the moving average.\n",
    "nopromo_df = sub_df.filter(\"is_promo == 0\")\\\n",
    "            .withColumn(\"moving_avg\", round(mean(\"sales_quantity\").over(window), 2))\\\n",
    "            .select(\"store_id\",\"prod_id\", \"sales_date\", \"moving_avg\")\n",
    "nopromo_df.show()"
   ]
  },
  {
   "cell_type": "code",
   "execution_count": 58,
   "id": "5aa5c99c-33f6-4b39-b246-8a12f63bcb93",
   "metadata": {},
   "outputs": [
    {
     "name": "stdout",
     "output_type": "stream",
     "text": [
      "+--------+-------+----------+------+--------------+----------+--------+----------+\n",
      "|store_id|prod_id|sales_date|amount|sales_quantity|moving_avg|is_promo|moving_avg|\n",
      "+--------+-------+----------+------+--------------+----------+--------+----------+\n",
      "|      A1|  89686|2021-05-06| 441.0|            12|      12.0|       0|      12.0|\n",
      "|      A1|  89686|2021-05-07| 447.0|            23|      17.5|       1|      null|\n",
      "|      A1|  89686|2021-05-08| 456.0|            14|    16.333|       1|      null|\n",
      "|      A1|  89686|2021-05-09| 438.0|             8|      15.0|       1|      null|\n",
      "|      A1|  89686|2021-05-10| 415.0|             6|     9.333|       0|       9.0|\n",
      "|      A1|  89686|2021-05-11| 446.0|             4|       6.0|       0|      7.33|\n",
      "|      A1|  89686|2021-05-12| 441.0|            11|       7.0|       0|       7.0|\n",
      "|      A1|  89686|2021-05-13| 422.0|             9|       8.0|       0|       8.0|\n",
      "|      A1|  89686|2021-05-14| 459.0|            19|      13.0|       0|      13.0|\n",
      "|      A1|  89686|2021-05-15| 436.0|             3|    10.333|       0|     10.33|\n",
      "|      A1|  89688|2021-05-06| 188.0|             7|       7.0|       0|       7.0|\n",
      "|      A1|  89688|2021-05-07| 187.0|             9|       8.0|       1|      null|\n",
      "|      A1|  89688|2021-05-08| 173.0|            22|    12.667|       1|      null|\n",
      "|      A1|  89688|2021-05-09| 179.0|            17|      16.0|       1|      null|\n",
      "|      A1|  89688|2021-05-10| 172.0|             0|      13.0|       0|       3.5|\n",
      "|      A1|  89688|2021-05-11| 185.0|            17|    11.333|       0|       8.0|\n",
      "|      A1|  89688|2021-05-12| 175.0|             3|     6.667|       0|      6.67|\n",
      "|      A1|  89688|2021-05-13| 184.0|            20|    13.333|       0|     13.33|\n",
      "|      A1|  89688|2021-05-14| 179.0|            12|    11.667|       0|     11.67|\n",
      "|      A1|  89688|2021-05-15| 177.0|            15|    15.667|       0|     15.67|\n",
      "+--------+-------+----------+------+--------------+----------+--------+----------+\n",
      "only showing top 20 rows\n",
      "\n"
     ]
    }
   ],
   "source": [
    "# Join Nonpromo moving average to the original Dataframe.\n",
    "sub_df.join(nopromo_df, on = [\"store_id\", \"prod_id\", \"sales_date\"], how = \"left\").show()"
   ]
  }
 ],
 "metadata": {
  "kernelspec": {
   "display_name": "Python 3 (ipykernel)",
   "language": "python",
   "name": "python3"
  },
  "language_info": {
   "codemirror_mode": {
    "name": "ipython",
    "version": 3
   },
   "file_extension": ".py",
   "mimetype": "text/x-python",
   "name": "python",
   "nbconvert_exporter": "python",
   "pygments_lexer": "ipython3",
   "version": "3.11.5"
  }
 },
 "nbformat": 4,
 "nbformat_minor": 5
}
